{
 "cells": [
  {
   "cell_type": "markdown",
   "metadata": {},
   "source": [
    "# Autoregression and Convergent Markov Chain"
   ]
  },
  {
   "cell_type": "markdown",
   "metadata": {},
   "source": [
    "Week5의 내용에서 다루었던 바와 같이, 전이분포(transition distribution)가 다음과 같이 있다고 하겠습니다."
   ]
  },
  {
   "cell_type": "markdown",
   "metadata": {},
   "source": [
    "$$\n",
    "\\begin{aligned}\n",
    "p(X_{t+1} \\mid X_t = x_t ) &= N( \\phi x_t ,1)\\\\[10pt]\n",
    "&\\text{ where } −1<\\phi<1\n",
    "\\end{aligned}\n",
    "$$"
   ]
  },
  {
   "cell_type": "markdown",
   "metadata": {},
   "source": []
  },
  {
   "cell_type": "markdown",
   "metadata": {},
   "source": [
    "$$\n",
    "\\begin{aligned}\n",
    "X_{t+1} &= \\phi X_t + \\varepsilon_{t+1} \\\\[10pt]\n",
    "\\varepsilon_t &\\sim N(0, 1), \\ \\ \\forall t \\\\\n",
    "\\end{aligned}\n",
    "$$"
   ]
  },
  {
   "cell_type": "markdown",
   "metadata": {},
   "source": [
    "$$\n",
    "\\begin{aligned}\n",
    "\\mathbb{E}(X_{t})&=\\phi \\mathbb {E}(X_{{t-1}})+\\mathbb {E}(\\varepsilon _{t}) \\\\[10pt]\n",
    "\\mu &= \\phi \\mu + 0 \\\\[10pt]\n",
    "\\therefore \\ \\ \\mu &= 0\n",
    "\\end{aligned}\n",
    "$$"
   ]
  },
  {
   "cell_type": "markdown",
   "metadata": {},
   "source": [
    "$$\n",
    "\\begin{aligned}\n",
    "Var(X_t) &= \\phi^2 Var(X_{t-1}) + {\\sigma_\\varepsilon}^2 \\\\[10pt]\n",
    "\\therefore \\ \\ \\sigma^2 &= \\frac{1}{1-\\phi^2}  \n",
    "\\end{aligned}\n",
    "$$"
   ]
  }
 ],
 "metadata": {
  "kernelspec": {
   "display_name": "Python [default]",
   "language": "python",
   "name": "python3"
  },
  "language_info": {
   "codemirror_mode": {
    "name": "ipython",
    "version": 3
   },
   "file_extension": ".py",
   "mimetype": "text/x-python",
   "name": "python",
   "nbconvert_exporter": "python",
   "pygments_lexer": "ipython3",
   "version": "3.6.3"
  }
 },
 "nbformat": 4,
 "nbformat_minor": 2
}
