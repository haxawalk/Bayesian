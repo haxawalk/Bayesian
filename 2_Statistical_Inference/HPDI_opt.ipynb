{
 "cells": [
  {
   "cell_type": "markdown",
   "metadata": {},
   "source": [
    "### Case1 : $ X \\sim Gamma(5,1) $"
   ]
  },
  {
   "cell_type": "markdown",
   "metadata": {},
   "source": [
    "#### 1. Definition of PDF"
   ]
  },
  {
   "cell_type": "code",
   "execution_count": 4,
   "metadata": {},
   "outputs": [
    {
     "name": "stdout",
     "output_type": "stream",
     "text": [
      "Created file '/Users/hyunwoogu/PDF_gamma.m'.\n"
     ]
    }
   ],
   "source": [
    "%%file PDF_gamma.m\n",
    "\n",
    "% PDF of Gamma(5,1)\n",
    "function [res] = PDF_gamma(x)\n",
    "    alpha=5;\n",
    "    beta =1;\n",
    "    res = (1/(gamma(alpha) * (beta^alpha))) * (x.^(alpha-1)) .* exp(- x./beta);\n",
    "end"
   ]
  },
  {
   "cell_type": "code",
   "execution_count": 1,
   "metadata": {},
   "outputs": [
    {
     "data": {
      "image/png": "[encoded data removed]",
      "text/plain": [
       "<IPython.core.display.Image object>"
      ]
     },
     "metadata": {},
     "output_type": "display_data"
    }
   ],
   "source": [
    "X = linspace(0, 20, 101);\n",
    "Y = PDF_gamma(X);\n",
    "plot(X,Y, '-magenta')"
   ]
  },
  {
   "cell_type": "markdown",
   "metadata": {},
   "source": [
    "#### 2. Definition of a constraint"
   ]
  },
  {
   "cell_type": "code",
   "execution_count": 3,
   "metadata": {},
   "outputs": [
    {
     "name": "stdout",
     "output_type": "stream",
     "text": [
      "Created file '/Users/hyunwoogu/constraint.m'.\n"
     ]
    }
   ],
   "source": [
    "%%file constraint.m\n",
    "\n",
    "function[c, ceq] = constraint(x)\n",
    "    c   = x(1) - x(2);\n",
    "    ceq = integral(@PDF_gamma, x(1), x(2)) - .95 ;\n",
    "end"
   ]
  },
  {
   "cell_type": "markdown",
   "metadata": {},
   "source": [
    "#### 3. Optimization"
   ]
  },
  {
   "cell_type": "code",
   "execution_count": 4,
   "metadata": {},
   "outputs": [
    {
     "name": "stdout",
     "output_type": "stream",
     "text": [
      "Warning: Length of lower bounds is > length(x); ignoring extra bounds.\n",
      "> In checkbounds (line 27)\n",
      "  In fmincon (line 308)\n",
      "Warning: Length of upper bounds is < length(x); filling in missing upper bounds with +Inf.\n",
      "> In checkbounds (line 47)\n",
      "  In fmincon (line 308)\n",
      "\n",
      "Local minimum found that satisfies the constraints.\n",
      "\n",
      "Optimization completed because the objective function is non-decreasing in \n",
      "feasible directions, to within the default value of the optimality tolerance,\n",
      "and constraints are satisfied to within the default value of the constraint tolerance.\n",
      "\n",
      "\n",
      "\n",
      "    1.2070    9.4302\n",
      "\n"
     ]
    }
   ],
   "source": [
    "objective = @(x) x(2) - x(1);\n",
    "x0 = [0 20]; % initial guess\n",
    "\n",
    "A = [];\n",
    "b = [];\n",
    "Aeq = [];\n",
    "beq = [];\n",
    "lb = zeros(2);\n",
    "ub = 20.0 * ones(1);\n",
    "nonlincon = @constraint;\n",
    "\n",
    "x = fmincon(objective, x0, A,b, Aeq, beq, lb, ub, nonlincon);\n",
    "disp(x);"
   ]
  },
  {
   "cell_type": "markdown",
   "metadata": {},
   "source": [
    "### Case2 : $ X \\sim N(10,9) $"
   ]
  },
  {
   "cell_type": "markdown",
   "metadata": {},
   "source": [
    "#### 1. Definition of PDF"
   ]
  },
  {
   "cell_type": "code",
   "execution_count": 15,
   "metadata": {},
   "outputs": [
    {
     "name": "stdout",
     "output_type": "stream",
     "text": [
      "Created file '/Users/hyunwoogu/PDF_normal.m'.\n"
     ]
    }
   ],
   "source": [
    "%%file PDF_normal.m\n",
    "\n",
    "% PDF of N(10,9)\n",
    "function [res] = PDF_normal(x)\n",
    "    mu   =10;\n",
    "    sigma= 3;\n",
    "    res = (1/(sqrt(2) * gamma(.5) * sigma)) * exp(-0.5 * ((x-mu)/sigma).^2);\n",
    "end"
   ]
  },
  {
   "cell_type": "code",
   "execution_count": 20,
   "metadata": {},
   "outputs": [
    {
     "data": {
      "image/png": "[encoded data removed]",
      "text/plain": [
       "<IPython.core.display.Image object>"
      ]
     },
     "metadata": {},
     "output_type": "display_data"
    }
   ],
   "source": [
    "X = linspace(0, 20, 101);\n",
    "Y = PDF_normal(X);\n",
    "plot(X,Y, '-red')"
   ]
  },
  {
   "cell_type": "markdown",
   "metadata": {},
   "source": [
    "#### 2. Definition of a Constraint"
   ]
  },
  {
   "cell_type": "code",
   "execution_count": 23,
   "metadata": {},
   "outputs": [
    {
     "name": "stdout",
     "output_type": "stream",
     "text": [
      "Created file '/Users/hyunwoogu/constraint.m'.\n"
     ]
    }
   ],
   "source": [
    "%%file constraint.m\n",
    "\n",
    "function[c, ceq] = constraint(x)\n",
    "    c   = x(1) - x(2);\n",
    "    ceq = integral(@PDF_normal, x(1), x(2)) - .95 ;\n",
    "end"
   ]
  },
  {
   "cell_type": "markdown",
   "metadata": {},
   "source": [
    "#### 3. Optimization\n",
    "\n",
    "Does not work..."
   ]
  },
  {
   "cell_type": "code",
   "execution_count": 34,
   "metadata": {},
   "outputs": [
    {
     "name": "stdout",
     "output_type": "stream",
     "text": [
      "Warning: Length of lower bounds is > length(x); ignoring extra bounds.\n",
      "> In checkbounds (line 27)\n"
     ]
    }
   ],
   "source": [
    "objective = @(x) x(2) - x(1);\n",
    "x0 = [4 16]; % initial guess\n",
    "\n",
    "A = [];\n",
    "b = [];\n",
    "Aeq = [];\n",
    "beq = [];\n",
    "lb = zeros(2);\n",
    "ub = 20.0 * ones(1);\n",
    "nonlincon = @constraint;\n",
    "\n",
    "x = fmincon(objective, x0, A,b, Aeq, beq, lb, ub, nonlincon);\n",
    "disp(x);"
   ]
  }
 ],
 "metadata": {
  "kernelspec": {
   "display_name": "Matlab",
   "language": "matlab",
   "name": "matlab"
  },
  "language_info": {
   "codemirror_mode": "octave",
   "file_extension": ".m",
   "help_links": [
    {
     "text": "MetaKernel Magics",
     "url": "https://github.com/calysto/metakernel/blob/master/metakernel/magics/README.md"
    }
   ],
   "mimetype": "text/x-octave",
   "name": "matlab",
   "version": "0.15.0"
  }
 },
 "nbformat": 4,
 "nbformat_minor": 2
}
