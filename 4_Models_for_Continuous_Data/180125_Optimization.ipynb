{
 "cells": [
  {
   "cell_type": "markdown",
   "metadata": {},
   "source": [
    "# Estimation of Normal HPDI using Optimizer(Tensorflow Interface)"
   ]
  },
  {
   "cell_type": "code",
   "execution_count": 1,
   "metadata": {},
   "outputs": [
    {
     "name": "stderr",
     "output_type": "stream",
     "text": [
      "/Users/hyunwoogu/anaconda3/lib/python3.6/importlib/_bootstrap.py:219: RuntimeWarning: compiletime version 3.5 of module 'tensorflow.python.framework.fast_tensor_util' does not match runtime version 3.6\n",
      "  return f(*args, **kwds)\n"
     ]
    }
   ],
   "source": [
    "import tensorflow as tf\n",
    "import external_optimizer\n",
    "import math"
   ]
  },
  {
   "cell_type": "markdown",
   "metadata": {},
   "source": [
    "### Idea"
   ]
  },
  {
   "cell_type": "markdown",
   "metadata": {},
   "source": [
    "Given pdf $f_X$ (with $\\mu$, $\\sigma$), define lower bound $x_l$, and upper bound $x_u$.\n",
    "\n",
    "**Constraint** : $\\int_{x_l}^{x_u} f_X dx$ = .95 ($\\because$ 95% credible interval)\n",
    "\n",
    "**Goal** : *minimize* $x_u - x_l$"
   ]
  },
  {
   "cell_type": "markdown",
   "metadata": {},
   "source": [
    "Since $f_X$ is normal, we have cdf $F_X$ as follows\n",
    "\n",
    "$$\n",
    "\\begin{align}\n",
    "F_X(x) & = \\frac{1}{2} [1 + erf(\\frac {x - \\mu}{\\sigma \\sqrt{2}})] \\\\\n",
    "& \\text{where } erf \\text{ : error function} \\\\\n",
    "\\end{align}\n",
    "$$\n",
    "\n",
    "Thus, we have\n",
    "\n",
    "$$\n",
    "\\begin{align}\n",
    "\\int_{x_l}^{x_u} f_X dx & = \\frac {1}{2} [erf(\\frac {x_u - \\mu}{\\sigma \\sqrt{2}}) - erf(\\frac {x_l - \\mu}{\\sigma \\sqrt{2}})] = .95\n",
    "\\end{align}\n",
    "$$"
   ]
  },
  {
   "cell_type": "markdown",
   "metadata": {},
   "source": [
    "Define a constraint function $c$\n",
    "\n",
    "$$\n",
    "c(x_l, x_u) = \\frac {1}{2} [erf(\\frac {x_u - \\mu}{\\sigma \\sqrt{2}}) - erf(\\frac {x_l - \\mu}{\\sigma \\sqrt{2}})] - .95\n",
    "$$"
   ]
  },
  {
   "cell_type": "markdown",
   "metadata": {},
   "source": [
    "Define **Lagrange function** as follows\n",
    "\n",
    "$$\n",
    "g(x_l, x_u, \\lambda) = (x_u - x_l) + \\lambda c(x_l, x_u)\n",
    "$$\n",
    "\n",
    "Using the **method of Lagrange multipliers**, we have\n",
    "\n",
    "$$\n",
    "\\begin{align}\n",
    "\\bigtriangledown g & = \\mathbf{0} \\\\\n",
    "\\frac{\\partial g}{\\partial x_u} & = 1 + \\lambda \\frac{1}{\\sigma} \\sqrt{\\frac{2}{\\pi}} e ^ {-\\frac{(x_u - \\mu)^2}{2 \\sigma^2}} = 0 \\\\\n",
    "\\frac{\\partial g}{\\partial x_l} & = -1 - \\lambda \\frac{1}{\\sigma} \\sqrt{\\frac{2}{\\pi}} e ^ {-\\frac{(x_l - \\mu)^2}{2 \\sigma^2}} = 0 \\\\\n",
    "\\frac{\\partial g}{\\partial \\lambda} & = \\frac {1}{2} [erf(\\frac {x_u - \\mu}{\\sigma \\sqrt{2}}) - erf(\\frac {x_l - \\mu}{\\sigma \\sqrt{2}})] - .95 = 0 \\\\\n",
    "\\end{align}\n",
    "$$"
   ]
  },
  {
   "cell_type": "markdown",
   "metadata": {},
   "source": [
    "Thus, if we define $v = [x_l, x_u]$,\n",
    "\n",
    "**Constraint** : $e ^ {-\\frac{(x_u - \\mu)^2}{2 \\sigma^2}} = e ^ {-\\frac{(x_l - \\mu)^2}{2 \\sigma^2}}$\n",
    "\n",
    "**Goal** : *minimize* $v[1] - v[0]$"
   ]
  },
  {
   "cell_type": "markdown",
   "metadata": {},
   "source": [
    "### Define Normal PDF"
   ]
  },
  {
   "cell_type": "markdown",
   "metadata": {},
   "source": [
    "$$\n",
    "\\begin{align}\n",
    "X & \\sim N(10, 3^2) \\\\[10pt]\n",
    "f_X & = \\frac{1}{3 \\sqrt{2 \\pi} } e ^ {- \\frac{1}{2} (\\frac {x-10}{3} )^2}\n",
    "\\end{align}\n",
    "$$"
   ]
  },
  {
   "cell_type": "code",
   "execution_count": 3,
   "metadata": {},
   "outputs": [],
   "source": [
    "mean  = 10.\n",
    "sigma = 3."
   ]
  },
  {
   "cell_type": "markdown",
   "metadata": {},
   "source": [
    "### Optimization"
   ]
  },
  {
   "cell_type": "code",
   "execution_count": 10,
   "metadata": {},
   "outputs": [
    {
     "name": "stdout",
     "output_type": "stream",
     "text": [
      "INFO:tensorflow:Optimization terminated with:\n",
      "  Message: Optimization terminated successfully.\n",
      "  Objective function value: 11.759783\n",
      "  Number of iterations: 7\n",
      "  Number of functions evaluations: 9\n",
      "[  4.12010813  15.8798914 ]\n"
     ]
    }
   ],
   "source": [
    "initial_guess = tf.Variable([0., 20.], 'vector')\n",
    "\n",
    "loss      =  tf.subtract(initial_guess[1], initial_guess[0])\n",
    "\n",
    "cstraint  =[(tf.erf((initial_guess[1] - mean)/(sigma*math.sqrt(2)))-\n",
    "             tf.erf((initial_guess[0] - mean)/(sigma*math.sqrt(2))))*.5 - .95]\n",
    "\n",
    "optimizer =  tf.contrib.opt.ScipyOptimizerInterface(loss, equalities=cstraint, method='SLSQP')\n",
    "\n",
    "init = tf.global_variables_initializer()\n",
    "\n",
    "with tf.Session() as sess:\n",
    "    sess.run(init)\n",
    "    optimizer.minimize(sess)\n",
    "    print(sess.run(initial_guess))\n",
    "    sess.close()"
   ]
  },
  {
   "cell_type": "markdown",
   "metadata": {},
   "source": [
    "### Comprison with R code"
   ]
  },
  {
   "cell_type": "code",
   "execution_count": 5,
   "metadata": {},
   "outputs": [
    {
     "name": "stdout",
     "output_type": "stream",
     "text": [
      "Interval : [ 4.1415 15.8585 ]\n"
     ]
    }
   ],
   "source": [
    "f = function(x)\n",
    "{\n",
    "  dnorm(x, mean=10, sd=3)\n",
    "}\n",
    "\n",
    "source('HPDI.R')\n",
    "\n",
    "HPDI(f)"
   ]
  }
 ],
 "metadata": {
  "kernelspec": {
   "display_name": "R",
   "language": "R",
   "name": "ir"
  },
  "language_info": {
   "codemirror_mode": "r",
   "file_extension": ".r",
   "mimetype": "text/x-r-source",
   "name": "R",
   "pygments_lexer": "r",
   "version": "3.4.3"
  }
 },
 "nbformat": 4,
 "nbformat_minor": 2
}
