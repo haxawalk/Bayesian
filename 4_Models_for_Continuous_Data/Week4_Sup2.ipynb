{
 "cells": [
  {
   "cell_type": "markdown",
   "metadata": {},
   "source": [
    "## Normal Approximation of Likelihood and Posterior"
   ]
  },
  {
   "cell_type": "markdown",
   "metadata": {},
   "source": [
    "사후분포는 가능도함수와 사전분포의 곱에 비례하는 형태로 표현될 수 있습니다. 즉, 다음과 같습니다."
   ]
  },
  {
   "cell_type": "markdown",
   "metadata": {},
   "source": [
    "$$\n",
    "\\text{Posterior} \\propto \\text{Likelihood} \\times \\text{Prior}\n",
    "$$"
   ]
  },
  {
   "cell_type": "markdown",
   "metadata": {},
   "source": [
    "제가 Week4 발제에서 주장한 내용은 크게 다음 세 가지입니다.\n",
    "\n",
    "+ 첫째, 사전분포의 선정과는 별개로, **데이터가 어떤 분포를 따르고 있는지를 판단**하는 데에도 자의성이 개입할 수 있다. 즉, **가능도함수**의 계산은 연구자의 판단에 달려 있다.\n",
    "\n",
    "+ 둘째, 하지만 충분한 데이터가 있는 경우, **다른 분포를 가정하더라도 가능도함수는 서로 유사**해진다. 구체적으로 말해, $n$이 충분히 클 때 가능도함수가 최대가능도추정량(MLE)을 중심으로 첨도가 높은 **정규분포**에 근사하는 것으로 보인다.\n",
    "\n",
    "+ 셋째, 따라서 $n$이 충분히 커서 가능도함수가 사전분포의 영향을 압도하게 되면, 가능도함수의 **서로 다른 분포**를 가정하는 것의 **영향력이 크지 않다**"
   ]
  },
  {
   "cell_type": "markdown",
   "metadata": {},
   "source": [
    "Week4 발제에서는 데이터가 정규분포와 감마분포를 따른다고 각각 가정할 경우 가능도함수의 **그림을 그려보면 서로 유사하다는 점**을 근거로 위의 내용을 주장했습니다. 하지만 이러한 주장은 근거가 다소 휴리스틱하므로, 이를 보다 뒷받침할 수 있는 자료를 찾아보았습니다.\n",
    "\n",
    "결론부터 이야기하면, 위의 주장은 **사후분포의 정규분포 근사** 논의에 의해 뒷받침될 수 있습니다.\n",
    "\n",
    "아래에서는 1. **이론적 배경**, 2. 데이터를 통한 **시뮬레이션**과 **사후분포**의 **credible interval** 비교를 다루었습다."
   ]
  },
  {
   "cell_type": "markdown",
   "metadata": {},
   "source": [
    "### 1. Background : Normal Approximation to the Posterior"
   ]
  },
  {
   "cell_type": "markdown",
   "metadata": {},
   "source": [
    "만일 **사후분포**가 단봉(unimodal) 분포이며 대체로 대칭적이라면, 충분한 데이터 하 사후분포를 편의적으로 정규분포에 근사할 수 있습니다([1]).\n",
    "\n",
    "우선 로그 사후분포 $log \\ \\ p(\\theta \\mid Y)$를 사후분포의 **최빈값** $\\hat{\\theta}$에 중심화하여 테일러 전개(Taylor series expansion)할 경우, 다음을 얻습니다. "
   ]
  },
  {
   "cell_type": "markdown",
   "metadata": {},
   "source": [
    "$$\n",
    "\\begin{aligned}\n",
    "log \\ \\ p(\\theta \\mid Y) = log \\ \\ p(\\hat{\\theta} \\mid Y) + \\frac{1}{2} (\\theta - \\hat{\\theta})^T \\Biggr[ \\frac{\\partial^2}{d\\theta^2} p(\\theta \\mid Y)\\Biggr]_{\\theta=\\hat{\\theta}} (\\theta - \\hat{\\theta}) + \\cdots, \\\\\n",
    "\\end{aligned}\n",
    "$$"
   ]
  },
  {
   "cell_type": "markdown",
   "metadata": {},
   "source": [
    "위 식에서 **일차항**은 소거된 상태인데, 이는 로그 사후분포가 최빈값에서 미분값이 0이기 때문입니다. \n",
    "\n",
    "또한, $\\theta - \\hat{\\theta} \\approx 0$이고 $n$이 충분히 클 경우 **삼차항 이상은 이차항의 상대적 중요성에 의해 소거**될 수 있습니다.\n",
    "\n",
    "이를 정리하면, **사후분포의 근사식**은 다음과 같습니다."
   ]
  },
  {
   "cell_type": "markdown",
   "metadata": {},
   "source": [
    "$$\n",
    "\\begin{aligned}\n",
    "p(\\theta \\mid Y) &\\approx N(\\hat{\\theta} , [I(\\hat{\\theta})]^{-1} )\\\\[10pt]\n",
    "&\\text{where } I(\\theta) = -\\frac {\\partial^2} {\\partial \\theta^2} log \\ \\ p(\\theta \\mid Y) \\\\\n",
    "\\end{aligned}\n",
    "$$"
   ]
  },
  {
   "cell_type": "markdown",
   "metadata": {},
   "source": [
    "여기서 **정보행렬** $I(\\hat {\\theta})$은 피셔정보가 아닌, 관측값을 토대로 도출된 **관측된 정보**(observed information)입니다. 이러한 근사 방식은 빈도론적 논의에서 최대가능도추정량(MLE)의 **점근적 정규성**(Asymptotic Normality)을 상기시키지만, 베이지안 맥락에서는 1) 근사되는 분포가 MLE의 분포가 아닌 사후분포라는 점과 2) 정보행렬이 기댓값으로 주어지는 피셔정보가 아니라 관측된 정보라는 중요한 차이가 있습니다.\n",
    "\n",
    "한편 이와 같은 논의를 바탕으로 볼 때, 충분하 관측 하에서 **사후분포가 정규분포에 근사한다는 것**은 가능도함수가 정규분포에 근사한다는 주장보다 더 **‘강한’ 주장**입니다. 왜냐하면 사전분포로서 **비정보 사전분포 혹은 vague prior를 사용할 경우**, 사후분포는 가능도함수에 의해서 결정되기 때문입니다.\n",
    "\n",
    "따라서 아래에서는 **사전분포의 영향력**이 (거의) **없을 때** 가능도함수의 선정에 따라 사후분포가 어떻게 달라지는지 보려고 합니다. \n",
    "\n",
    "편의상 아래의 모든 경우 **사전분포**는 평균이 0이고 표준편차가 10,000인 **vague 정규분포**를 사용했습니다. "
   ]
  },
  {
   "cell_type": "markdown",
   "metadata": {},
   "source": [
    "### 2. Simulation and Credible Interval"
   ]
  },
  {
   "cell_type": "markdown",
   "metadata": {},
   "source": [
    "Week4의 세미나에서 다룬 데이터의 분포를 다시 사용하겠습니다. 다음은 실제 **수강생들의 2차 중간고사 결과**를 보여주는 데이터입니다. 저의 목표는 수강생들 점수의 파라미터, 즉 **평균**의 분포를 예측하는 것입니다. 아래는 점수의 분포를 나타내는 값들입니다. 이하에서는 편의상 $n=k$라고 할 때 1번 수강생부터 $k$번 수강생까지의 점수 데이터를 사용한 것이라고 하겠습니다. 총 수강생은 $n=87$명입니다."
   ]
  },
  {
   "cell_type": "code",
   "execution_count": 4,
   "metadata": {},
   "outputs": [
    {
     "name": "stdout",
     "output_type": "stream",
     "text": [
      "\n",
      "  The decimal point is 1 digit(s) to the right of the |\n",
      "\n",
      "  0 | 0034455555566779\n",
      "  1 | 0022344444444555555566666777899\n",
      "  2 | 1122222334556\n",
      "  3 | 000113\n",
      "  4 | 0005779\n",
      "  5 | 35\n",
      "  6 | 022779\n",
      "  7 | 45579\n",
      "  8 | 5\n",
      "\n"
     ]
    },
    {
     "data": {
      "text/html": [
       "<ol class=list-inline>\n",
       "\t<li>30</li>\n",
       "\t<li>14</li>\n",
       "\t<li>15</li>\n",
       "\t<li>5</li>\n",
       "\t<li>67</li>\n",
       "</ol>\n"
      ],
      "text/latex": [
       "\\begin{enumerate*}\n",
       "\\item 30\n",
       "\\item 14\n",
       "\\item 15\n",
       "\\item 5\n",
       "\\item 67\n",
       "\\end{enumerate*}\n"
      ],
      "text/markdown": [
       "1. 30\n",
       "2. 14\n",
       "3. 15\n",
       "4. 5\n",
       "5. 67\n",
       "\n",
       "\n"
      ],
      "text/plain": [
       "[1] 30 14 15  5 67"
      ]
     },
     "metadata": {},
     "output_type": "display_data"
    },
    {
     "data": {
      "text/plain": [
       "   Min. 1st Qu.  Median    Mean 3rd Qu.    Max. \n",
       "    0.0    14.0    17.0    26.3    32.0    85.0 "
      ]
     },
     "metadata": {},
     "output_type": "display_data"
    }
   ],
   "source": [
    "stem(second_midterm)      ## all the observations\n",
    "head(second_midterm, n=5) ## first five observations\n",
    "summary(second_midterm)"
   ]
  },
  {
   "cell_type": "markdown",
   "metadata": {},
   "source": [
    "#### 1. Poisson Likelihood"
   ]
  },
  {
   "cell_type": "markdown",
   "metadata": {},
   "source": [
    "**가능도함수가 포아송 분포**라고 가정할 때, 즉 수강생들의 점수 분포가 포아송 분포를 따른다고 할 때, 관측치의 수 $n$가 증가함에 따라 **사후분포**가 어떤 행동을 보이는지를 시각화하면 다음과 같습니다. **켤레 사전분포를 가정하지 않았으므로**, 그래프들은 R의 integrate()함수를 이용해 정규화 상수를 수치 근사한 결과입니다. 이 알고리즘의 계산적 이유로 인해 근사된 정규화 상수가 정확하지 않을 수 있고, 따라서 스케일이 정확히 일치하지는 않을 수 있습니다."
   ]
  },
  {
   "cell_type": "markdown",
   "metadata": {},
   "source": [
    "포아송 분포에서의 파라미터 $\\lambda$에 대한 **최대가능도추정량**(MLE)과 **사후분포의 정규근사식**은 다음과 같고, 이를 시각화할 수 있습니다."
   ]
  },
  {
   "cell_type": "markdown",
   "metadata": {},
   "source": [
    "$$\n",
    "\\begin{aligned}\n",
    "\\hat{\\lambda}  &= \\frac{1}{n} \\sum X_i \\ \\ , \\ \\ I(\\hat{\\lambda}) = \\frac{ \\hat{ \\lambda } } {n}\\\\[10pt]\n",
    "f(\\lambda \\mid X) &\\approx N(\\hat{\\lambda} , \\frac{n} { \\hat{ \\lambda } }  )\\\\\n",
    "\\end{aligned}\n",
    "$$"
   ]
  },
  {
   "cell_type": "markdown",
   "metadata": {},
   "source": [
    "관측된 데이터 하에서의 실제 **사후분포**와, **정규근사된 사후분포**의 95% credible interval을 도출해보면 다음과 같습니다. 추정을 위해 일전에 정의해두었던 Highest Posterior Density Interval(HPDI) 수치 근사 함수를 이용했습니다. 결과가 거의 유사한 것을 볼 수 있습니다."
   ]
  },
  {
   "cell_type": "code",
   "execution_count": 14,
   "metadata": {},
   "outputs": [
    {
     "name": "stdout",
     "output_type": "stream",
     "text": [
      "Interval : [ 25.2595 28.0105 ]\n",
      "Interval : [ 25.2025 27.3945 ]\n"
     ]
    }
   ],
   "source": [
    "HPDI(Pois_Post, lb=0, ub=50)\n",
    "HPDI(Poisson_Norm_compare, lb=0, ub=50)"
   ]
  },
  {
   "cell_type": "markdown",
   "metadata": {},
   "source": [
    "#### 2. Exponential Likelihood"
   ]
  },
  {
   "cell_type": "markdown",
   "metadata": {},
   "source": [
    "**가능도함수가 지수 분포**라고 가정할 때, 즉 수강생들의 점수 분포가 지수 분포를 따른다고 할 때, 관측치의 수 $n$가 증가함에 따라 **사후분포**가 어떤 행동을 보이는지를 시각화하면 다음과 같습니다.\n",
    "\n",
    "한편, 저의 목표는 수강생들 점수 **평균**의 분포를 예측하는 것이므로, 지수분포의 파라미터 $\\lambda$를 그대로 사용할 수 없습니다. 지수분포의 **평균**은 지수분포의 PDF에 의해 $\\frac{1}{\\lambda}$로 주어집니다. 따라서 일반적으로 다음과 같이 주어지는 확률변수 $Z=\\frac{1}{X}$의 역수 변환 식을 이용해서 $\\frac{1}{\\lambda}$의 분포 또한 구했습니다."
   ]
  },
  {
   "cell_type": "markdown",
   "metadata": {},
   "source": [
    "$$\n",
    "f_Z(z) = \\frac {1}{z^2} f_X(\\frac {1} {z}) \n",
    "$$"
   ]
  },
  {
   "cell_type": "markdown",
   "metadata": {},
   "source": [
    "지수 분포에서의 파라미터 $\\lambda$에 대한 **최대가능도추정량**(MLE)은 다음과 같고, **사후분포의 정규근사식**은 다음과 같으며 이를 시각화할 수 있습니다. 이 경우도 평균의 사후분포를 구하기 위해 역수 변환을 취해주었습니다."
   ]
  },
  {
   "cell_type": "markdown",
   "metadata": {},
   "source": [
    "$$\n",
    "\\begin{aligned}\n",
    "\\hat{\\lambda}  &= \\frac{n}{\\sum X_i}  \\ \\ , \\ \\ I(\\hat{\\lambda})  = \\frac{n}{ \\lambda ^2} \\\\[15pt]\n",
    "f(\\lambda \\mid X) &\\approx N(\\hat{\\lambda} , \\frac{ \\hat{ \\lambda}^2}  {n})\n",
    "\\end{aligned}\n",
    "$$"
   ]
  },
  {
   "cell_type": "markdown",
   "metadata": {},
   "source": [
    "$\\lambda$에 대한 실제 **사후분포**와, **정규근사된 사후분포**를 역수변환을 취하여 구한 $\\frac{1}{\\lambda}$의 분포에 대해 95% credible interval을 도출해보면 다음과 같습니다. 거의 유사합니다."
   ]
  },
  {
   "cell_type": "code",
   "execution_count": 8,
   "metadata": {},
   "outputs": [
    {
     "name": "stdout",
     "output_type": "stream",
     "text": [
      "Interval : [ 21.1755 32.5035 ]\n",
      "Interval : [ 21.9245 33.8405 ]\n"
     ]
    }
   ],
   "source": [
    "HPDI(Exp_Post_inv, lb=0, ub=50)\n",
    "HPDI(Exp_Norm_compare_inv, lb=0, ub=50)"
   ]
  },
  {
   "cell_type": "markdown",
   "metadata": {},
   "source": [
    "#### 3. Normal Likelihood"
   ]
  },
  {
   "cell_type": "markdown",
   "metadata": {},
   "source": [
    "이하에서는 보다 복잡한 케이스, 즉 **파라미터가 두 개인 경우**를 살펴보겠습니다.\n",
    "\n",
    "먼저 **가능도함수가 정규 분포**라고 가정할 때, 즉 수강생들의 점수 분포가 정규 분포를 따른다고 할 때, 파라미터 $\\mu$, $\\sigma^2$의 **사후분포**가 어떠한 모습인지 보도록 하겠습니다.\n",
    "\n",
    "이제 독립변수가 $\\mu$, $\\sigma^2$이고 종속변수가 확률밀도인 3차원 그래프가 되므로, 전체 데이터를 사용할 경우 시각화가 매우 어렵습니다. 또한 수치 근사도 어려운데, 이는 독립변수 두 개를 사용하여 근사한 결과를 적분 등을 통해 변환해주는 과정에서 계산적 소실이 많이 일어나기 때문입니다. 더구나 가능도함수의 함수값으로서 매우 작은 수가 계속 곱해지는 과정에서 작은 수의 소실이 일어날 수 있습니다.\n",
    "\n",
    "따라서 아래의 경우에는 $n=2$, 즉 관측치가 $[30, 14]$인 경우의 예로 국한하여 시각화를 해보았습니다. 여기서도 저의 목표는 수강생들 점수 **평균**의 분포를 예측하는 것이므로, 파라미터 $\\mu$, $\\sigma^2$의 이변수함수의 분포를 $\\mu$만의 분포로 주변화(marginalize) 또한 하였습니다."
   ]
  },
  {
   "cell_type": "markdown",
   "metadata": {},
   "source": [
    "정규 분포에서 파라미터 $\\mu$, $\\sigma^2$에 대한 **최대가능도추정량**(MLE)과 **사후분포의 정규근사식**은 다음과 같으며 이를 시각화할 수 있습니다. 이 경우 역시 파라미터 $\\mu$, $\\sigma^2$의 이변수함수의 분포를 $\\mu$만의 분포로 주변화하였습니다."
   ]
  },
  {
   "cell_type": "markdown",
   "metadata": {},
   "source": [
    "$$\n",
    "\\begin{aligned}\n",
    "\\hat{\\mu}  &= \\sum \\frac{X_i }{n} \\ \\ , \\ \\ \\hat{\\sigma}^2 = \\frac{1}{n} \\sum (X_i - \\mu)^2 \\\\[15pt]\n",
    "I(\\hat{\\mu}, \\hat{\\sigma}^2)  &= n\n",
    "\\begin{pmatrix}\n",
    "\\frac{1}{\\sigma^2} & 0 \\\\\n",
    "0 & \\frac{1}{2 \\sigma^4}\n",
    "\\end{pmatrix} \\\\[15pt]\n",
    "f(\\mu, \\sigma^2 \\mid X) &\\approx N([\\hat{\\mu}, \\hat{\\sigma}^2] \\ \\ , \\ \\ I^{-1}(\\hat{\\mu}, \\hat{\\sigma}^2) ) \\\\\n",
    "\\end{aligned}\n",
    "$$"
   ]
  },
  {
   "cell_type": "markdown",
   "metadata": {},
   "source": [
    "#### 4. Gamma Likelihood"
   ]
  },
  {
   "cell_type": "markdown",
   "metadata": {},
   "source": [
    "마지막으로 **가능도함수가 감마 분포**라고 가정할 때, 즉 수강생들의 점수 분포가 감마 분포를 따른다고 할 때, 파라미터 $\\alpha$, $\\beta$의 **사후분포**가 어떤 모습인지 보겠습니다.\n",
    "\n",
    "이 경우에도 $n=2$, 즉 관측치가 $[30, 14]$인 경우의 예로 국한하여 시각화를 해보았습니다. 목표가 수강생들 점수 **평균**의 분포를 예측하는 것인데, 감마분포의 파라미터 $\\alpha$, $\\beta$의 변환이 필요합니다. 감마분포의 **평균**은 감마분포의 PDF에 의해 $\\frac{\\alpha}{\\beta}$로 주어집니다. 따라서 일반적으로 다음과 같이 주어지는 확률변수 $Z=\\frac{X}{Y}$의 비례 변환 식을 이용해서 $\\frac{\\alpha}{\\beta}$의 분포를 구했습니다."
   ]
  },
  {
   "cell_type": "markdown",
   "metadata": {},
   "source": [
    "$$\n",
    "f_Z(z) = \\int^{+\\infty}_{-\\infty} \\mid y \\mid f_{X,Y}(zy, y) \\, dy\n",
    "$$"
   ]
  },
  {
   "cell_type": "markdown",
   "metadata": {},
   "source": [
    "감마 분포에서의 파라미터 $\\alpha$, $\\beta$에 대한 **최대가능도추정량**(MLE)과 **사후분포의 정규근사식**은 다음과 같습니다([2]). 여기서 $\\psi(\\alpha)$는 두 번째 폴리감마 함수인 **trigamma function**을 의미합니다. 이 경우 역시 파라미터 $\\alpha$, $\\beta$의 이변수함수의 분포를 비례 확률변수 $\\frac{\\alpha}{\\beta}$의 분포로 변환했습니다.\n",
    "\n",
    "한편, 아래에서 보다시피 감마 분포의 최대가능도추정량은 파라미터 $\\alpha$와 $\\beta$의 비례식으로 나오며, 정확한 $\\alpha$와 $\\beta$의 점추정량은 근사적으로 제안되어 왔습니다([3]). 여기서는 그래프를 그리기 위해 수치적으로 근사한 값을 이용해 $\\alpha$와 $\\beta$를 바탕으로 비례분포를 구했습니다. 구체적으로는, 위의 **히트맵의 꼭대기**(zenith) 값의 인덱스인 $\\alpha = 7.5$, $\\beta = 0.34$를 이용했습니다."
   ]
  },
  {
   "cell_type": "markdown",
   "metadata": {},
   "source": [
    "$$\n",
    "\\begin{aligned}\n",
    "\\hat{\\beta}  &= \\frac{n \\alpha}{ \\sum Xi } \\\\[15pt]\n",
    "I(\\hat{\\alpha}, \\hat{\\beta})  &=\\begin{pmatrix}\n",
    "\\psi (\\alpha) & -\\frac{1}{\\beta} \\\\\n",
    "-\\frac{1}{\\beta} & \\frac{\\alpha}{\\beta^2}\n",
    "\\end{pmatrix} \\\\[15pt]\n",
    "f(\\alpha, \\beta \\mid X) &\\approx N([\\hat{\\alpha}, \\hat{\\beta}] \\ \\ , \\ \\ I^{-1}(\\hat{\\alpha}, \\hat{\\beta}) ) \\\\\n",
    "\\end{aligned}\n",
    "$$"
   ]
  },
  {
   "cell_type": "markdown",
   "metadata": {},
   "source": [
    "### Reference\n",
    "\n",
    "[1] Gelman, A., Carlin, J. B., Stern, H. S., Dunson, D. B., Vehtari, A., & Rubin, D. B. (2014). Bayesian data analysis (Vol. 2). Boca Raton, FL: CRC press.\n",
    "\n",
    "[2] http://math.arizona.edu/~jwatkins/o-mle.pdf\n",
    "\n",
    "[3] https://tminka.github.io/papers/minka-gamma.pdf"
   ]
  }
 ],
 "metadata": {
  "kernelspec": {
   "display_name": "R",
   "language": "R",
   "name": "ir"
  },
  "language_info": {
   "codemirror_mode": "r",
   "file_extension": ".r",
   "mimetype": "text/x-r-source",
   "name": "R",
   "pygments_lexer": "r",
   "version": "3.4.3"
  }
 },
 "nbformat": 4,
 "nbformat_minor": 2
}
