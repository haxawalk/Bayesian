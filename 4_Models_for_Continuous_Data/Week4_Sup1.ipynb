{
 "cells": [
  {
   "cell_type": "markdown",
   "metadata": {},
   "source": [
    "## Normal Likelihood with Variance Known"
   ]
  },
  {
   "cell_type": "markdown",
   "metadata": {},
   "source": [
    "사전분포가 **정규분포**이며, 가능도함수가 **분산이 주어진** 정규분포인 경우를 살펴보겠습니다."
   ]
  },
  {
   "cell_type": "markdown",
   "metadata": {},
   "source": [
    "$$\n",
    "\\begin{aligned}\n",
    "\\text{Prior : } &\\mu \\sim N( m_0, {s_0}^2 ) \\\\[15pt]\n",
    "\\text{Likelihood : } &X \\mid \\mu \\sim N(\\mu, {\\sigma_0}^2) \\\\\n",
    "\\end{aligned}\n",
    "$$"
   ]
  },
  {
   "cell_type": "markdown",
   "metadata": {},
   "source": [
    "이 경우 **사후분포**는 정규분포를 따르게 됩니다.\n",
    "\n",
    "단일한 관측을 했을 경우의 증명은 Week4 세미나에서 다루었으므로, **여러 번의 관측**을 했을 경우의 증명만 다루겠습니다."
   ]
  },
  {
   "cell_type": "markdown",
   "metadata": {},
   "source": [
    "$$\n",
    "\\begin{aligned}\n",
    "f(\\mu \\mid X) &\\propto [\\prod_{i=1} ^n exp[-\\frac{1}{2 {\\sigma_0}^2} (x_i - \\mu)^2] ]\\ \\ exp[-\\frac{1}{2 {s_0}^2} (\\mu - m_0)^2] \\\\[20pt]\n",
    "&\\propto exp \\Bigl\\{ -\\frac{1}{2 {\\sigma_0}^2} [\\sum {x_i}^2 - 2 \\mu \\sum {x_i} + n\\mu^2] \\Bigl\\} \\ \\ exp[-\\frac{1}{2 {s_0}^2} (\\mu - m_0)^2] \\\\[20pt]\n",
    "&\\propto exp \\Bigl\\{ -\\frac{1}{2 {\\sigma_0}^2} [-2n \\bar{X} \\mu + n\\mu^2] \\Bigl\\} \\ \\ exp[-\\frac{1}{2 {s_0}^2} (\\mu - m_0)^2] \\\\[20pt]\n",
    "&\\propto exp \\Bigl\\{ -\\frac{1}{2} [(\\frac{1}{{s_0}^2} + \\frac{n}{{\\sigma_0}^2}) \\mu^2 -2(\\frac{n \\bar{X}}{{\\sigma_0}^2} + \\frac{{m_0}}{{s_0}^2})\\mu] \\Bigl\\}\\\\[20pt]\n",
    "(\\text{Let } &(\\frac{1}{{s_0}^2} + \\frac{n}{{\\sigma_0}^2})^{-1} = {s_1}^2 \\text{ and } (\\frac{n \\bar{X}}{{\\sigma_0}^2} + \\frac{{m_0}}{{s_0}^2}) {s_1}^2= m_1 )\\\\[20pt]\n",
    "&\\propto exp[-\\frac{1}{2} (\\frac{1}{{s_1}^2} \\mu^2 - 2 \\frac{m_1}{{s_1}^2} \\mu)] \\\\[15pt]\n",
    "&\\propto exp[-\\frac{1}{2 {s_1}^2} (\\mu - m_1)^2]\\\\[15pt]\n",
    "& \\therefore \\mu \\mid X \\sim N(m_1, {s_1}^2) \\ \\ \\blacksquare \\\\\n",
    "\\end{aligned}\n",
    "$$"
   ]
  },
  {
   "cell_type": "markdown",
   "metadata": {},
   "source": [
    "이러한 결과를 정리하면 다음과 같습니다."
   ]
  },
  {
   "cell_type": "markdown",
   "metadata": {},
   "source": [
    "$$\n",
    "\\mu \\mid X \\sim N(\\frac{\\frac{n \\bar{x}}{{\\sigma_0}^2}+\\frac{m_0}{{s_0}^2}}{\\frac{n }{{\\sigma_0}^2} + \\frac{1}{{s_0}^2}}, \\frac{1}{\\frac{n }{{\\sigma_0}^2} + \\frac{1}{{s_0}^2}})\n",
    "$$"
   ]
  },
  {
   "cell_type": "markdown",
   "metadata": {},
   "source": [
    "## Non-standardized t distibution"
   ]
  },
  {
   "cell_type": "markdown",
   "metadata": {},
   "source": [
    "다음으로 t 분포의 일반화된 형태, 즉 비표준화 t 분포를 구하겠습니다.\n",
    "\n",
    "만일 t 분포를 따르는 확률변수 $T$를 위치 파라미터 $\\mu$와 척도 파라미터 $\\sigma$에 의해 변환할 수 있다면,\n",
    "\n",
    "즉 $X = \\mu + \\sigma T$의 분포를 구할 수 있다면 t 분포를 보다 일반화할 수 있을 것입니다."
   ]
  },
  {
   "cell_type": "markdown",
   "metadata": {},
   "source": [
    "### Derivation of PDF"
   ]
  },
  {
   "cell_type": "markdown",
   "metadata": {},
   "source": [
    "연속확률변수 $T$의 확률밀도함수가 $f_T(t)$일 때, $X = \\mu + \\sigma T$($\\mu$, $\\sigma$는 상수)의 확률밀도함수 $f_X(x)$를 도출하는 상황을 살펴보겠습니다.\n",
    "\n",
    "먼저 변환 $g(t) = \\mu + \\sigma t$를 정의하면 이 변환은 **일대일**(one-to-one)을 만족하며, $g^{-1}(x)=t$입니다.\n",
    "\n",
    "**치환적분법**에 의해, 확률변수 X가 취할 수 있는 값의 임의의 집합 S을 이용해 다음과 같이 $f_X(x)$를 유도할 수 있습니다."
   ]
  },
  {
   "cell_type": "markdown",
   "metadata": {},
   "source": [
    "$$\n",
    "\\begin{aligned}\n",
    "\\int_{x \\in S} f_X(x) dx &= P(X \\in S) \\\\[10pt]\n",
    "&= P(T \\in g^{-1}(S) ) \\ \\ (\\because \\ \\ g \\text{ : one-to-one})\\\\[10pt]\n",
    "&= \\int_{t \\in g^{-1}(S)} f_T (t) dt \\\\[10pt]\n",
    "&= \\int_{x \\in S} f_T ({g^{-1}(x))} \\mid det (\\frac{\\partial g^{-1}(x)}{\\partial x}) \\mid dx \\\\[10pt]\n",
    "\\therefore \\ \\ f_X(x) &= \\frac{1}{\\mid \\sigma \\mid} f_T(t)\n",
    "\\end{aligned}\n",
    "$$"
   ]
  },
  {
   "cell_type": "markdown",
   "metadata": {},
   "source": [
    "만일 연속확률변수 $T$가 자유도가 $\\nu$인 t 분포를 따른다면, 즉 $T \\sim t(\\nu)$인 경우의 확률밀도함수 $f_T(t)$는 다음과 같습니다."
   ]
  },
  {
   "cell_type": "markdown",
   "metadata": {},
   "source": [
    "$$\n",
    "\\begin{aligned}\n",
    "f_T(t) &= \\frac {\\Gamma( \\frac{\\nu + 1}{2}  )} {\\Gamma(  \\frac{\\nu}{2}  ) \\sqrt{\\nu \\pi} }\n",
    "(1 + \\frac {t^2} {\\nu} ) ^ { - \\frac  {\\nu + 1}  {2} }\n",
    "\\end{aligned}\n",
    "$$"
   ]
  },
  {
   "cell_type": "markdown",
   "metadata": {},
   "source": [
    "이상의 논의에 의해 $X = \\mu + \\sigma T$의 분포, 즉 일반화된 비표준화 t 분포의 확률밀도함수 $f_X(x)$는 다음과 같습니다."
   ]
  },
  {
   "cell_type": "markdown",
   "metadata": {},
   "source": [
    "$$\n",
    "\\begin{aligned}\n",
    "f_X(x) &= \\frac {\\Gamma( \\frac{\\nu + 1}{2}  )} {\\Gamma(  \\frac{\\nu}{2}  ) \\sqrt{\\nu \\pi} \\sigma}\n",
    "(1 + \\frac {1} {\\nu}  (  \\frac {x - \\mu} {\\sigma}    )^2  ) ^ { - \\frac  {\\nu + 1}  {2} }\n",
    "\\end{aligned}\n",
    "$$"
   ]
  },
  {
   "cell_type": "markdown",
   "metadata": {},
   "source": [
    "### Properties"
   ]
  },
  {
   "cell_type": "code",
   "execution_count": null,
   "metadata": {},
   "outputs": [],
   "source": [
    "t_nstd = function(x, df, mu, sigma)\n",
    "{\n",
    "  numer = gamma((df + 1)/2)\n",
    "  denom = gamma(df/2 ) * sqrt(df * pi) * sigma\n",
    "  body  = (1 + (1/df) * ((x - mu)/sigma)^2 ) ^(-(df+1)/2)\n",
    "  \n",
    "  return(numer/denom * body)\n",
    "}"
   ]
  },
  {
   "cell_type": "markdown",
   "metadata": {},
   "source": [
    "이렇게 도출된 비표준화 t 분포의 확률밀도함수를 코드로 정의하면 위와 같습니다.\n",
    "\n",
    "자유도, 위치 파라미터 $\\mu$, 척도 파라미터 $\\sigma$에 따라 분포가 어떻게 달라지는지 시각화하면 다음과 같습니다."
   ]
  },
  {
   "cell_type": "markdown",
   "metadata": {},
   "source": [
    "<img src=\"Noncentral.png\" width=\"800\" height=\"500\" align=\"center\"/>"
   ]
  },
  {
   "cell_type": "markdown",
   "metadata": {},
   "source": [
    "+ **자유도**가 커질수록 정규분포에 근사하고, 이는 표준화 t 분포와 동일한 특성입니다.\n",
    "\n",
    "+ **위치 파라미터** $\\mu$는 PDF를 정확히 평행이동시킵니다. X의 평균에 해당합니다.\n",
    "\n",
    "+ **척도 파라미터**가 커질수록 분포의 변산성이 커집니다. 하지만, X의 표준편차에 해당하지 않습니다. \n",
    "\n",
    "간단한 통계량은 다음과 같습니다."
   ]
  },
  {
   "cell_type": "markdown",
   "metadata": {},
   "source": [
    "$\\mathbb{E}(X) = mode(X) = \\mu$ ($\\nu > 1$)\n",
    "\n",
    "$Var(X) = \\sigma ^2 \\frac {\\nu} {\\nu -2}$ ($\\nu > 2$)"
   ]
  },
  {
   "cell_type": "markdown",
   "metadata": {},
   "source": [
    "Week 4의 **Normal with variance unknown**에서,\n",
    "\n",
    "**Likelihood**가 $N(\\mu, \\sigma)$를 따를 때, $\\mu \\mid \\sigma^2$와 $\\sigma^2$의 **Prior** 하이퍼파라미터를 설정하는 것을 다루었습니다.\n",
    "\n",
    "이때, $\\sigma^2$를 제외(margin out)한 주변분포인 $\\mu \\mid X$의 분포는 **비표준화 t 분포**를 따릅니다. 즉, 다음과 같습니다."
   ]
  },
  {
   "cell_type": "markdown",
   "metadata": {},
   "source": [
    "$$\n",
    "\\begin{aligned}\n",
    "X_i \\mid \\mu, \\sigma^2 &\\overset{iid}{\\sim} N (\\mu, \\sigma^2) \\\\[10pt]\n",
    "\\mu \\mid \\sigma^2 &\\sim N(m, \\frac {\\sigma^2} {w}) \\ \\ \\text{where } w = \\frac {\\sigma^2} { {\\sigma_\\mu}^2 } \\text{ : effective sample size} \\\\[10pt]\n",
    "\\sigma^2 &\\sim \\Gamma^{-1} (\\alpha, \\beta) \\\\[10pt]\n",
    "\\sigma^2 \\mid X &\\sim \\Gamma^{-1} (\\alpha + \\frac {n} {2},  \\beta + \\frac{1}{2} \\sum_i (X_i - \\bar{X} ) ^2 + \\frac {nw} {2(n + w)} (\\bar{X} - m)^2 ) \\\\[10pt]\n",
    "\\mu \\mid \\sigma^2, X &\\sim N( \\frac {n \\bar(X) + wm} {n+w}, \\frac {\\sigma^2} {n+w} ) \\\\[10pt]\n",
    "\\mu \\mid X &\\sim t(2 \\alpha + n, m^{*}, \\gamma) \\\\[20pt]\n",
    "m^{*} &= \\frac {n \\bar{X} + wm} {n + w} \\\\[10pt]\n",
    "\\gamma &= \\sqrt {  \\frac {\\beta + \\frac{n-1}{2} \\sum (x_i - \\bar{x})^2 / (n-1) + \\frac{wn}{2(w+n)} (\\bar{x} - m)^2  }  {(n+w)  (\\alpha + n/2) }     }\n",
    "\\end{aligned}\n",
    "$$"
   ]
  }
 ],
 "metadata": {
  "kernelspec": {
   "display_name": "R",
   "language": "R",
   "name": "ir"
  },
  "language_info": {
   "codemirror_mode": "r",
   "file_extension": ".r",
   "mimetype": "text/x-r-source",
   "name": "R",
   "pygments_lexer": "r",
   "version": "3.4.3"
  }
 },
 "nbformat": 4,
 "nbformat_minor": 2
}
